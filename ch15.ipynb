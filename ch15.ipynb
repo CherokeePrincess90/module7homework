{
 "cells": [
  {
   "cell_type": "code",
   "execution_count": 1,
   "metadata": {},
   "outputs": [
    {
     "name": "stdout",
     "output_type": "stream",
     "text": [
      "Current date and time are 2022-12-07 18:18:59.927355\n",
      "Current date and time are 2022-12-07 18:19:00.085024\n",
      "Current date and time are 2022-12-07 18:19:00.557534\n",
      "Finished\n"
     ]
    }
   ],
   "source": [
    "import multiprocessing\n",
    "from datetime import datetime\n",
    "import time\n",
    "import random\n",
    "\n",
    "#function for multiprocessing\n",
    "def print_time():\n",
    "    now = datetime.now()\n",
    "    print(\"Current date and time are {}\".format(now))\n",
    "    time.sleep(random.random())\n",
    "\n",
    "#multiprocessing set up\n",
    "if __name__ == '__main__':\n",
    "    proc1 = multiprocessing.Process(target=print_time())\n",
    "    proc2 = multiprocessing.Process(target=print_time())\n",
    "    proc3 = multiprocessing.Process(target=print_time())\n",
    "    #starting the processes\n",
    "    proc1.start()\n",
    "    proc2.start()\n",
    "    proc3.start()\n",
    "    #waiting for previous process to finish before running\n",
    "    proc1.join()\n",
    "    proc2.join()\n",
    "    proc3.join()\n",
    "\n",
    "#print end statement\n",
    "    print(\"Finished\")"
   ]
  }
 ],
 "metadata": {
  "kernelspec": {
   "display_name": "Python 3.11.0 64-bit",
   "language": "python",
   "name": "python3"
  },
  "language_info": {
   "codemirror_mode": {
    "name": "ipython",
    "version": 3
   },
   "file_extension": ".py",
   "mimetype": "text/x-python",
   "name": "python",
   "nbconvert_exporter": "python",
   "pygments_lexer": "ipython3",
   "version": "3.11.0"
  },
  "orig_nbformat": 4,
  "vscode": {
   "interpreter": {
    "hash": "5d0031ffa9aa913fe011d7787e966f2d0f74f1c5dada2abfb1c1896a1183f048"
   }
  }
 },
 "nbformat": 4,
 "nbformat_minor": 2
}
